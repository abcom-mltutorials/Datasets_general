{
  "nbformat": 4,
  "nbformat_minor": 0,
  "metadata": {
    "kernelspec": {
      "display_name": "Python 3",
      "language": "python",
      "name": "python3"
    },
    "language_info": {
      "codemirror_mode": {
        "name": "ipython",
        "version": 3
      },
      "file_extension": ".py",
      "mimetype": "text/x-python",
      "name": "python",
      "nbconvert_exporter": "python",
      "pygments_lexer": "ipython3",
      "version": "3.8.8"
    },
    "colab": {
      "name": "Thilakraj_insurance_GradientBoast.ipynb",
      "provenance": [],
      "collapsed_sections": []
    }
  },
  "cells": [
    {
      "cell_type": "markdown",
      "metadata": {
        "id": "5Z-WIW8yV5kk"
      },
      "source": [
        "Copyright @ 2021 ABCOM Information Systems Pvt. Ltd. All Rights Reserved.\n",
        "\n",
        "Licensed under the Apache License, Version 2.0 (the \"License\"); you may not use this file except in compliance with the License. You may obtain a copy of the License at\n",
        "\n",
        "http://www.apache.org/licenses/LICENSE-2.0\n",
        "\n",
        "Unless required by applicable law or agreed to in writing, software distributed under the License is distributed on an \"AS IS\" BASIS, WITHOUT WARRANTIES OR CONDITIONS OF ANY KIND, either express or implied.\n",
        "\n",
        "See the License for the specific language governing permissions and limitations under the License.\n"
      ]
    },
    {
      "cell_type": "markdown",
      "metadata": {
        "id": "chykcM7NP_pw"
      },
      "source": [
        "# Insurance Price Claim Prediction\n",
        "\n",
        "Studying the risk underwriting in Health Insurance, interplay of various attributes of the insured and how they affect the insurance premium"
      ]
    },
    {
      "cell_type": "markdown",
      "metadata": {
        "id": "wGhFDgz4qR5U"
      },
      "source": [
        "## Algorithm: Gradient Boasting"
      ]
    },
    {
      "cell_type": "code",
      "metadata": {
        "id": "-EwGlZFfP_p4"
      },
      "source": [
        "import numpy as np\n",
        "import pandas as pd\n",
        "import matplotlib.pyplot as plt\n",
        "import warnings\n",
        "import seaborn as sns\n",
        "from sklearn.metrics import accuracy_score,r2_score,mean_absolute_error,mean_squared_error\n",
        "from sklearn.model_selection import train_test_split\n",
        "from sklearn.ensemble import GradientBoostingRegressor # regression using Gradient boasting\n",
        "from sklearn.preprocessing import LabelEncoder# for label encoding \n",
        "warnings.filterwarnings(\"ignore\")"
      ],
      "execution_count": 1,
      "outputs": []
    },
    {
      "cell_type": "markdown",
      "metadata": {
        "id": "PipgNTi5P_p5"
      },
      "source": [
        "## Fetching Data\n"
      ]
    },
    {
      "cell_type": "code",
      "metadata": {
        "colab": {
          "base_uri": "https://localhost:8080/",
          "height": 206
        },
        "id": "bQfgmFRvP_p5",
        "outputId": "b89e7333-bb30-4760-86fc-439a0e67e0a7"
      },
      "source": [
        "df=pd.read_csv(\"https://raw.githubusercontent.com/abcom-mltutorials/Datasets_general/main/insurance.csv\")#reading dataset\n",
        "df.head()"
      ],
      "execution_count": 2,
      "outputs": [
        {
          "output_type": "execute_result",
          "data": {
            "text/html": [
              "<div>\n",
              "<style scoped>\n",
              "    .dataframe tbody tr th:only-of-type {\n",
              "        vertical-align: middle;\n",
              "    }\n",
              "\n",
              "    .dataframe tbody tr th {\n",
              "        vertical-align: top;\n",
              "    }\n",
              "\n",
              "    .dataframe thead th {\n",
              "        text-align: right;\n",
              "    }\n",
              "</style>\n",
              "<table border=\"1\" class=\"dataframe\">\n",
              "  <thead>\n",
              "    <tr style=\"text-align: right;\">\n",
              "      <th></th>\n",
              "      <th>age</th>\n",
              "      <th>sex</th>\n",
              "      <th>bmi</th>\n",
              "      <th>children</th>\n",
              "      <th>smoker</th>\n",
              "      <th>region</th>\n",
              "      <th>charges</th>\n",
              "    </tr>\n",
              "  </thead>\n",
              "  <tbody>\n",
              "    <tr>\n",
              "      <th>0</th>\n",
              "      <td>19</td>\n",
              "      <td>female</td>\n",
              "      <td>27.900</td>\n",
              "      <td>0</td>\n",
              "      <td>yes</td>\n",
              "      <td>southwest</td>\n",
              "      <td>16884.92400</td>\n",
              "    </tr>\n",
              "    <tr>\n",
              "      <th>1</th>\n",
              "      <td>18</td>\n",
              "      <td>male</td>\n",
              "      <td>33.770</td>\n",
              "      <td>1</td>\n",
              "      <td>no</td>\n",
              "      <td>southeast</td>\n",
              "      <td>1725.55230</td>\n",
              "    </tr>\n",
              "    <tr>\n",
              "      <th>2</th>\n",
              "      <td>28</td>\n",
              "      <td>male</td>\n",
              "      <td>33.000</td>\n",
              "      <td>3</td>\n",
              "      <td>no</td>\n",
              "      <td>southeast</td>\n",
              "      <td>4449.46200</td>\n",
              "    </tr>\n",
              "    <tr>\n",
              "      <th>3</th>\n",
              "      <td>33</td>\n",
              "      <td>male</td>\n",
              "      <td>22.705</td>\n",
              "      <td>0</td>\n",
              "      <td>no</td>\n",
              "      <td>northwest</td>\n",
              "      <td>21984.47061</td>\n",
              "    </tr>\n",
              "    <tr>\n",
              "      <th>4</th>\n",
              "      <td>32</td>\n",
              "      <td>male</td>\n",
              "      <td>28.880</td>\n",
              "      <td>0</td>\n",
              "      <td>no</td>\n",
              "      <td>northwest</td>\n",
              "      <td>3866.85520</td>\n",
              "    </tr>\n",
              "  </tbody>\n",
              "</table>\n",
              "</div>"
            ],
            "text/plain": [
              "   age     sex     bmi  children smoker     region      charges\n",
              "0   19  female  27.900         0    yes  southwest  16884.92400\n",
              "1   18    male  33.770         1     no  southeast   1725.55230\n",
              "2   28    male  33.000         3     no  southeast   4449.46200\n",
              "3   33    male  22.705         0     no  northwest  21984.47061\n",
              "4   32    male  28.880         0     no  northwest   3866.85520"
            ]
          },
          "metadata": {
            "tags": []
          },
          "execution_count": 2
        }
      ]
    },
    {
      "cell_type": "markdown",
      "metadata": {
        "id": "MYeKBGt6P_p6"
      },
      "source": [
        "#### Attributes\n",
        "\n",
        "1. age: age of primary beneficiary\n",
        "\n",
        "2. sex: insurance contractor gender, female, male\n",
        "\n",
        "3. bmi: Body mass index, providing an understanding of body, weights that are relatively high or low relative to height,\n",
        "\n",
        "4. children: Number of children covered by health insurance / Number of dependents\n",
        "\n",
        "5. smoker: Smoking\n",
        "\n",
        "6. region: the beneficiary's residential area in the US, northeast, southeast, southwest, northwest.\n",
        "\n",
        "7. charges: Individual medical costs billed by health insurance"
      ]
    },
    {
      "cell_type": "markdown",
      "metadata": {
        "id": "dY-cv67UP_p7"
      },
      "source": [
        "## Data Preproccessing"
      ]
    },
    {
      "cell_type": "code",
      "metadata": {
        "colab": {
          "base_uri": "https://localhost:8080/"
        },
        "id": "7C3l9Lb7P_p7",
        "outputId": "a6ce476e-8c65-40c1-fe2c-936ba1d2f761"
      },
      "source": [
        "df.isnull().sum()"
      ],
      "execution_count": 3,
      "outputs": [
        {
          "output_type": "execute_result",
          "data": {
            "text/plain": [
              "age         0\n",
              "sex         0\n",
              "bmi         0\n",
              "children    0\n",
              "smoker      0\n",
              "region      0\n",
              "charges     0\n",
              "dtype: int64"
            ]
          },
          "metadata": {
            "tags": []
          },
          "execution_count": 3
        }
      ]
    },
    {
      "cell_type": "code",
      "metadata": {
        "colab": {
          "base_uri": "https://localhost:8080/"
        },
        "id": "hVqJLbzFP_p8",
        "outputId": "ac27629d-5bbe-436d-8244-4d6a8f4b98c2"
      },
      "source": [
        "df.info()"
      ],
      "execution_count": 4,
      "outputs": [
        {
          "output_type": "stream",
          "text": [
            "<class 'pandas.core.frame.DataFrame'>\n",
            "RangeIndex: 1338 entries, 0 to 1337\n",
            "Data columns (total 7 columns):\n",
            " #   Column    Non-Null Count  Dtype  \n",
            "---  ------    --------------  -----  \n",
            " 0   age       1338 non-null   int64  \n",
            " 1   sex       1338 non-null   object \n",
            " 2   bmi       1338 non-null   float64\n",
            " 3   children  1338 non-null   int64  \n",
            " 4   smoker    1338 non-null   object \n",
            " 5   region    1338 non-null   object \n",
            " 6   charges   1338 non-null   float64\n",
            "dtypes: float64(2), int64(2), object(3)\n",
            "memory usage: 73.3+ KB\n"
          ],
          "name": "stdout"
        }
      ]
    },
    {
      "cell_type": "markdown",
      "metadata": {
        "id": "cdu0aBPgP_p9"
      },
      "source": [
        "## Checking category values"
      ]
    },
    {
      "cell_type": "code",
      "metadata": {
        "colab": {
          "base_uri": "https://localhost:8080/"
        },
        "id": "2cl4X9W0P_p9",
        "outputId": "5e8c89df-b752-445f-b3be-6e56ce78367e"
      },
      "source": [
        "print(\"Unique classes in Sex : \",df['sex'].unique()) #getting unique values in sex column\n",
        "print(\"Unique classes in smoker : \",df['smoker'].unique())#getting unique values in smoker column\n",
        "print(\"Unique classes in region : \",df['region'].unique())#getting unique values in region column"
      ],
      "execution_count": 5,
      "outputs": [
        {
          "output_type": "stream",
          "text": [
            "Unique classes in Sex :  ['female' 'male']\n",
            "Unique classes in smoker :  ['yes' 'no']\n",
            "Unique classes in region :  ['southwest' 'southeast' 'northwest' 'northeast']\n"
          ],
          "name": "stdout"
        }
      ]
    },
    {
      "cell_type": "markdown",
      "metadata": {
        "id": "gdyqS63UP_p9"
      },
      "source": [
        "Use LabelEncoder for encoding categorical columns"
      ]
    },
    {
      "cell_type": "code",
      "metadata": {
        "id": "xtJCoSXaP_p9"
      },
      "source": [
        "labelencoder = LabelEncoder()# initializing encoder\n",
        "df['sex']=labelencoder.fit_transform(df['sex']) #male =0\n",
        "df['smoker']=labelencoder.fit_transform(df['smoker']) #yes= 0\n",
        "df['region']=labelencoder.fit_transform(df['region']) # northwest =1,southE=2,southW=3,NE=0"
      ],
      "execution_count": 6,
      "outputs": []
    },
    {
      "cell_type": "code",
      "metadata": {
        "colab": {
          "base_uri": "https://localhost:8080/",
          "height": 206
        },
        "id": "vLoJ5xntP_p-",
        "outputId": "7619820c-105e-4614-c9f5-6d7723e73eb0"
      },
      "source": [
        "df.head()"
      ],
      "execution_count": 7,
      "outputs": [
        {
          "output_type": "execute_result",
          "data": {
            "text/html": [
              "<div>\n",
              "<style scoped>\n",
              "    .dataframe tbody tr th:only-of-type {\n",
              "        vertical-align: middle;\n",
              "    }\n",
              "\n",
              "    .dataframe tbody tr th {\n",
              "        vertical-align: top;\n",
              "    }\n",
              "\n",
              "    .dataframe thead th {\n",
              "        text-align: right;\n",
              "    }\n",
              "</style>\n",
              "<table border=\"1\" class=\"dataframe\">\n",
              "  <thead>\n",
              "    <tr style=\"text-align: right;\">\n",
              "      <th></th>\n",
              "      <th>age</th>\n",
              "      <th>sex</th>\n",
              "      <th>bmi</th>\n",
              "      <th>children</th>\n",
              "      <th>smoker</th>\n",
              "      <th>region</th>\n",
              "      <th>charges</th>\n",
              "    </tr>\n",
              "  </thead>\n",
              "  <tbody>\n",
              "    <tr>\n",
              "      <th>0</th>\n",
              "      <td>19</td>\n",
              "      <td>0</td>\n",
              "      <td>27.900</td>\n",
              "      <td>0</td>\n",
              "      <td>1</td>\n",
              "      <td>3</td>\n",
              "      <td>16884.92400</td>\n",
              "    </tr>\n",
              "    <tr>\n",
              "      <th>1</th>\n",
              "      <td>18</td>\n",
              "      <td>1</td>\n",
              "      <td>33.770</td>\n",
              "      <td>1</td>\n",
              "      <td>0</td>\n",
              "      <td>2</td>\n",
              "      <td>1725.55230</td>\n",
              "    </tr>\n",
              "    <tr>\n",
              "      <th>2</th>\n",
              "      <td>28</td>\n",
              "      <td>1</td>\n",
              "      <td>33.000</td>\n",
              "      <td>3</td>\n",
              "      <td>0</td>\n",
              "      <td>2</td>\n",
              "      <td>4449.46200</td>\n",
              "    </tr>\n",
              "    <tr>\n",
              "      <th>3</th>\n",
              "      <td>33</td>\n",
              "      <td>1</td>\n",
              "      <td>22.705</td>\n",
              "      <td>0</td>\n",
              "      <td>0</td>\n",
              "      <td>1</td>\n",
              "      <td>21984.47061</td>\n",
              "    </tr>\n",
              "    <tr>\n",
              "      <th>4</th>\n",
              "      <td>32</td>\n",
              "      <td>1</td>\n",
              "      <td>28.880</td>\n",
              "      <td>0</td>\n",
              "      <td>0</td>\n",
              "      <td>1</td>\n",
              "      <td>3866.85520</td>\n",
              "    </tr>\n",
              "  </tbody>\n",
              "</table>\n",
              "</div>"
            ],
            "text/plain": [
              "   age  sex     bmi  children  smoker  region      charges\n",
              "0   19    0  27.900         0       1       3  16884.92400\n",
              "1   18    1  33.770         1       0       2   1725.55230\n",
              "2   28    1  33.000         3       0       2   4449.46200\n",
              "3   33    1  22.705         0       0       1  21984.47061\n",
              "4   32    1  28.880         0       0       1   3866.85520"
            ]
          },
          "metadata": {
            "tags": []
          },
          "execution_count": 7
        }
      ]
    },
    {
      "cell_type": "markdown",
      "metadata": {
        "id": "YZKi_orgP_p-"
      },
      "source": [
        "After LabelEncoding this are the following changes:\n",
        "\n",
        "1. sex :  male -> 1,female ->0\n",
        "2. smoker : yes-> 1,no->0\n",
        "3. region : Northeast ->0,Northwest ->1,southeast ->2,southwest ->3,"
      ]
    },
    {
      "cell_type": "markdown",
      "metadata": {
        "id": "V9XsnfLrg__L"
      },
      "source": [
        "## EDA\n",
        "\n",
        "Let's perform  EDA to understand the dataset much better.\n",
        "we will plot a scatter plot for age against the charges with respect to the smoker feature."
      ]
    },
    {
      "cell_type": "code",
      "metadata": {
        "colab": {
          "base_uri": "https://localhost:8080/",
          "height": 388
        },
        "id": "I9OtssKzejOC",
        "outputId": "74009551-cdcd-48de-8589-1eeb69cf8f6e"
      },
      "source": [
        "plt.figure(figsize=(8,6))\n",
        "sns.scatterplot(df.age, df.charges,hue=df.smoker,palette= ['green','red'] ,alpha=0.6)\n",
        "plt.show()"
      ],
      "execution_count": 8,
      "outputs": [
        {
          "output_type": "display_data",
          "data": {
            "image/png": "[encoded data removed]",
            "text/plain": [
              "<Figure size 576x432 with 1 Axes>"
            ]
          },
          "metadata": {
            "tags": [],
            "needs_background": "light"
          }
        }
      ]
    },
    {
      "cell_type": "markdown",
      "metadata": {
        "id": "YctAi6sBP_p-"
      },
      "source": [
        "## Feature selection"
      ]
    },
    {
      "cell_type": "code",
      "metadata": {
        "colab": {
          "base_uri": "https://localhost:8080/",
          "height": 206
        },
        "id": "8oVbxz-aP_p_",
        "outputId": "dbca775b-7350-4024-ee71-d52743cbf843"
      },
      "source": [
        "X=df.drop(\"charges\",axis=1)#dropping target column from dataset \n",
        "X.head()"
      ],
      "execution_count": 9,
      "outputs": [
        {
          "output_type": "execute_result",
          "data": {
            "text/html": [
              "<div>\n",
              "<style scoped>\n",
              "    .dataframe tbody tr th:only-of-type {\n",
              "        vertical-align: middle;\n",
              "    }\n",
              "\n",
              "    .dataframe tbody tr th {\n",
              "        vertical-align: top;\n",
              "    }\n",
              "\n",
              "    .dataframe thead th {\n",
              "        text-align: right;\n",
              "    }\n",
              "</style>\n",
              "<table border=\"1\" class=\"dataframe\">\n",
              "  <thead>\n",
              "    <tr style=\"text-align: right;\">\n",
              "      <th></th>\n",
              "      <th>age</th>\n",
              "      <th>sex</th>\n",
              "      <th>bmi</th>\n",
              "      <th>children</th>\n",
              "      <th>smoker</th>\n",
              "      <th>region</th>\n",
              "    </tr>\n",
              "  </thead>\n",
              "  <tbody>\n",
              "    <tr>\n",
              "      <th>0</th>\n",
              "      <td>19</td>\n",
              "      <td>0</td>\n",
              "      <td>27.900</td>\n",
              "      <td>0</td>\n",
              "      <td>1</td>\n",
              "      <td>3</td>\n",
              "    </tr>\n",
              "    <tr>\n",
              "      <th>1</th>\n",
              "      <td>18</td>\n",
              "      <td>1</td>\n",
              "      <td>33.770</td>\n",
              "      <td>1</td>\n",
              "      <td>0</td>\n",
              "      <td>2</td>\n",
              "    </tr>\n",
              "    <tr>\n",
              "      <th>2</th>\n",
              "      <td>28</td>\n",
              "      <td>1</td>\n",
              "      <td>33.000</td>\n",
              "      <td>3</td>\n",
              "      <td>0</td>\n",
              "      <td>2</td>\n",
              "    </tr>\n",
              "    <tr>\n",
              "      <th>3</th>\n",
              "      <td>33</td>\n",
              "      <td>1</td>\n",
              "      <td>22.705</td>\n",
              "      <td>0</td>\n",
              "      <td>0</td>\n",
              "      <td>1</td>\n",
              "    </tr>\n",
              "    <tr>\n",
              "      <th>4</th>\n",
              "      <td>32</td>\n",
              "      <td>1</td>\n",
              "      <td>28.880</td>\n",
              "      <td>0</td>\n",
              "      <td>0</td>\n",
              "      <td>1</td>\n",
              "    </tr>\n",
              "  </tbody>\n",
              "</table>\n",
              "</div>"
            ],
            "text/plain": [
              "   age  sex     bmi  children  smoker  region\n",
              "0   19    0  27.900         0       1       3\n",
              "1   18    1  33.770         1       0       2\n",
              "2   28    1  33.000         3       0       2\n",
              "3   33    1  22.705         0       0       1\n",
              "4   32    1  28.880         0       0       1"
            ]
          },
          "metadata": {
            "tags": []
          },
          "execution_count": 9
        }
      ]
    },
    {
      "cell_type": "markdown",
      "metadata": {
        "id": "CXaYyy2tP_p_"
      },
      "source": [
        "## Target column"
      ]
    },
    {
      "cell_type": "code",
      "metadata": {
        "id": "BQ86YljLP_p_"
      },
      "source": [
        "y=df.charges"
      ],
      "execution_count": 10,
      "outputs": []
    },
    {
      "cell_type": "markdown",
      "metadata": {
        "id": "EYJnXRSqP_qA"
      },
      "source": [
        "## Splitting Dataset"
      ]
    },
    {
      "cell_type": "code",
      "metadata": {
        "colab": {
          "base_uri": "https://localhost:8080/"
        },
        "id": "V49NF49bP_qA",
        "outputId": "082eba42-d642-4c3d-e3a1-528ffaa6d648"
      },
      "source": [
        "x_train,x_test,y_train,y_test=train_test_split(X,y,test_size=0.2,random_state=123)\n",
        "print(\"train: \",x_train.shape)\n",
        "print(\"test: \",x_test.shape)"
      ],
      "execution_count": 11,
      "outputs": [
        {
          "output_type": "stream",
          "text": [
            "train:  (1070, 6)\n",
            "test:  (268, 6)\n"
          ],
          "name": "stdout"
        }
      ]
    },
    {
      "cell_type": "markdown",
      "metadata": {
        "id": "XhznBo45P_qA"
      },
      "source": [
        "## Model\n",
        "\n",
        "For our project we will use GradientBoastRegressor to perform regression using Ensemble learning\n",
        "\n",
        "Parameter Details:\n",
        "\n",
        "\n",
        "* N_estimators: The number of boosting stages to perform. Gradient boosting is fairly robust to over-fitting so a large number usually results in better performance.\n",
        "* Loss: Loss function to be optimized.\n",
        "* Learning_rate: Learning rate shrinks the contribution of each tree by learning_rate. There is a trade-off between learning_rate and n_estimators.\n",
        "* Criterion: The function to measure the quality of a split. \n",
        "* Max_depth: Maximum depth of the individual regression estimators.\n",
        "* Max_features: The number of features to consider when looking for the best split\n",
        "* Tol: Tolerance for the early stopping. When the loss is not improving by at least tol for n_iter_no_change iterations\n"
      ]
    },
    {
      "cell_type": "code",
      "metadata": {
        "colab": {
          "base_uri": "https://localhost:8080/"
        },
        "id": "2gQ_syHiP_qA",
        "outputId": "656086cc-985b-40d6-c73f-6f5fcff884f8"
      },
      "source": [
        "model=GradientBoostingRegressor(n_estimators=433,\n",
        "                                loss='huber',\n",
        "                                learning_rate=0.056767559947689034,\n",
        "                                criterion='mse',\n",
        "                                max_depth=3,\n",
        "                                max_features='auto',\n",
        "                                tol=0.001,\n",
        "                                n_iter_no_change=10,\n",
        "                                verbose=1,\n",
        "                                random_state=123)\n",
        "model.fit(x_train,y_train)#fitting model for training"
      ],
      "execution_count": 12,
      "outputs": [
        {
          "output_type": "stream",
          "text": [
            "      Iter       Train Loss   Remaining Time \n",
            "         1    67129019.3385            1.52s\n",
            "         2    60795096.0720            1.50s\n",
            "         3    55232530.2114            1.46s\n",
            "         4    50116367.1127            1.43s\n",
            "         5    45871085.6898            1.41s\n",
            "         6    42096773.6774            1.40s\n",
            "         7    38680203.7393            1.38s\n",
            "         8    35485765.5366            1.40s\n",
            "         9    32826190.9365            1.39s\n",
            "        10    30371222.1133            1.39s\n",
            "        20    15669210.9697            1.40s\n",
            "        30    10165185.9473            1.28s\n",
            "        40     7217506.0258            1.24s\n",
            "        50     5144326.2085            1.18s\n",
            "        60     3840471.2572            1.15s\n",
            "        70     3050637.3981            1.12s\n",
            "        80     2722645.5139            1.07s\n",
            "        90     2354577.1093            1.02s\n",
            "       100     2188666.1330            0.98s\n",
            "       200     1726384.0254            0.64s\n"
          ],
          "name": "stdout"
        },
        {
          "output_type": "execute_result",
          "data": {
            "text/plain": [
              "GradientBoostingRegressor(alpha=0.9, ccp_alpha=0.0, criterion='mse', init=None,\n",
              "                          learning_rate=0.056767559947689034, loss='huber',\n",
              "                          max_depth=3, max_features='auto', max_leaf_nodes=None,\n",
              "                          min_impurity_decrease=0.0, min_impurity_split=None,\n",
              "                          min_samples_leaf=1, min_samples_split=2,\n",
              "                          min_weight_fraction_leaf=0.0, n_estimators=433,\n",
              "                          n_iter_no_change=10, presort='deprecated',\n",
              "                          random_state=123, subsample=1.0, tol=0.001,\n",
              "                          validation_fraction=0.1, verbose=1, warm_start=False)"
            ]
          },
          "metadata": {
            "tags": []
          },
          "execution_count": 12
        }
      ]
    },
    {
      "cell_type": "markdown",
      "metadata": {
        "id": "e6X2mMrWP_qB"
      },
      "source": [
        "### Accuracy"
      ]
    },
    {
      "cell_type": "code",
      "metadata": {
        "colab": {
          "base_uri": "https://localhost:8080/"
        },
        "id": "9X7x2WGjP_qB",
        "outputId": "b01543ba-b6be-4bf8-93cc-cd29229f96c4"
      },
      "source": [
        "print(\"accuracy test: {:.2f}%\".format(model.score(x_test,y_test)*100))#getting accuracy on test set"
      ],
      "execution_count": 13,
      "outputs": [
        {
          "output_type": "stream",
          "text": [
            "accuracy test: 91.09%\n"
          ],
          "name": "stdout"
        }
      ]
    },
    {
      "cell_type": "markdown",
      "metadata": {
        "id": "ArGSiXJ3P_qC"
      },
      "source": [
        "### Predictions\n",
        "\n",
        "Another way of evaluation is by making a prediction on the test dataset and comparing the actual test values to the predicted values."
      ]
    },
    {
      "cell_type": "code",
      "metadata": {
        "colab": {
          "base_uri": "https://localhost:8080/"
        },
        "id": "zJOxqPuSP_qD",
        "outputId": "423ba2c8-5289-46df-a9ba-a3294c2dd2e4"
      },
      "source": [
        "y_pred=model.predict(x_test)#predicting on test set\n",
        "print(\"r2_score on test set : {:.2f} %\".format(r2_score(y_test,y_pred)))# getting r2 score for actual vs predicted values"
      ],
      "execution_count": 14,
      "outputs": [
        {
          "output_type": "stream",
          "text": [
            "r2_score on test set : 0.91 %\n"
          ],
          "name": "stdout"
        }
      ]
    },
    {
      "cell_type": "markdown",
      "metadata": {
        "id": "2pbXZl-nP_qC"
      },
      "source": [
        "### Features importance plot"
      ]
    },
    {
      "cell_type": "code",
      "metadata": {
        "colab": {
          "base_uri": "https://localhost:8080/",
          "height": 406
        },
        "id": "YDlD3qP0P_qC",
        "outputId": "65399b19-05c6-436c-b768-6e58685e36ae"
      },
      "source": [
        "plt.figure(figsize=(8,6))\n",
        "n_features = len(X.columns)\n",
        "plt.barh(range(n_features), model.feature_importances_, align='center')\n",
        "plt.yticks(np.arange(n_features), X.columns)\n",
        "plt.xlabel(\"Feature importance\")\n",
        "plt.ylabel(\"Feature\")\n",
        "plt.ylim(-1, n_features)\n"
      ],
      "execution_count": 15,
      "outputs": [
        {
          "output_type": "execute_result",
          "data": {
            "text/plain": [
              "(-1.0, 6.0)"
            ]
          },
          "metadata": {
            "tags": []
          },
          "execution_count": 15
        },
        {
          "output_type": "display_data",
          "data": {
            "image/png": "[encoded data removed]",
            "text/plain": [
              "<Figure size 576x432 with 1 Axes>"
            ]
          },
          "metadata": {
            "tags": [],
            "needs_background": "light"
          }
        }
      ]
    },
    {
      "cell_type": "markdown",
      "metadata": {
        "id": "PU4rNObRP_qC"
      },
      "source": [
        "From the plot, Since this dataset is for health insurance, we can say that the feature smoker has the highest impact on prediction. Followed by other features like age and BMI has the impact while features like sex and region have the least impact on model predict in this case.\n",
        "."
      ]
    },
    {
      "cell_type": "markdown",
      "metadata": {
        "id": "lT9EmvvCP_qD"
      },
      "source": [
        "## Prediction on unseen data\n",
        "\n",
        "we will test model on following case :\n",
        "\n",
        "A customer is an 18-year-old male and has a BMI of 25.002.\n",
        "he doesn't smoke and stays in the northeast region.\n",
        "let's see what amount our model predict for this case.and Let see what our model predict if the same benficiary was a smoker"
      ]
    },
    {
      "cell_type": "code",
      "metadata": {
        "id": "AVhkP0gHFR-1"
      },
      "source": [
        "data = {'age': [18, 18], 'sex': [1, 1],'bmi':[25.002,25.002],'children':[0,0],'smoker':[0,1],'region':[0,0]}\n",
        "my_test_data=pd.DataFrame(data=data)"
      ],
      "execution_count": 16,
      "outputs": []
    },
    {
      "cell_type": "code",
      "metadata": {
        "colab": {
          "base_uri": "https://localhost:8080/",
          "height": 112
        },
        "id": "PTzFwqBVFVjc",
        "outputId": "bcee2753-825d-4eca-d693-9a325afe12ad"
      },
      "source": [
        "my_test_data"
      ],
      "execution_count": 17,
      "outputs": [
        {
          "output_type": "execute_result",
          "data": {
            "text/html": [
              "<div>\n",
              "<style scoped>\n",
              "    .dataframe tbody tr th:only-of-type {\n",
              "        vertical-align: middle;\n",
              "    }\n",
              "\n",
              "    .dataframe tbody tr th {\n",
              "        vertical-align: top;\n",
              "    }\n",
              "\n",
              "    .dataframe thead th {\n",
              "        text-align: right;\n",
              "    }\n",
              "</style>\n",
              "<table border=\"1\" class=\"dataframe\">\n",
              "  <thead>\n",
              "    <tr style=\"text-align: right;\">\n",
              "      <th></th>\n",
              "      <th>age</th>\n",
              "      <th>sex</th>\n",
              "      <th>bmi</th>\n",
              "      <th>children</th>\n",
              "      <th>smoker</th>\n",
              "      <th>region</th>\n",
              "    </tr>\n",
              "  </thead>\n",
              "  <tbody>\n",
              "    <tr>\n",
              "      <th>0</th>\n",
              "      <td>18</td>\n",
              "      <td>1</td>\n",
              "      <td>25.002</td>\n",
              "      <td>0</td>\n",
              "      <td>0</td>\n",
              "      <td>0</td>\n",
              "    </tr>\n",
              "    <tr>\n",
              "      <th>1</th>\n",
              "      <td>18</td>\n",
              "      <td>1</td>\n",
              "      <td>25.002</td>\n",
              "      <td>0</td>\n",
              "      <td>1</td>\n",
              "      <td>0</td>\n",
              "    </tr>\n",
              "  </tbody>\n",
              "</table>\n",
              "</div>"
            ],
            "text/plain": [
              "   age  sex     bmi  children  smoker  region\n",
              "0   18    1  25.002         0       0       0\n",
              "1   18    1  25.002         0       1       0"
            ]
          },
          "metadata": {
            "tags": []
          },
          "execution_count": 17
        }
      ]
    },
    {
      "cell_type": "code",
      "metadata": {
        "colab": {
          "base_uri": "https://localhost:8080/"
        },
        "id": "ZYbm298MFX6E",
        "outputId": "14b4d8eb-3ddf-4357-80bb-38feee3320c0"
      },
      "source": [
        "result=model.predict(my_test_data)\n",
        "print(\"output : \",result)#getting prediction for the test value"
      ],
      "execution_count": 18,
      "outputs": [
        {
          "output_type": "stream",
          "text": [
            "output :  [ 5566.69343641 19936.14511967]\n"
          ],
          "name": "stdout"
        }
      ]
    }
  ]
}